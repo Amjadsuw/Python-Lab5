{
 "cells": [
  {
   "cell_type": "code",
   "execution_count": null,
   "id": "ada9a393",
   "metadata": {},
   "outputs": [],
   "source": []
  },
  {
   "cell_type": "code",
   "execution_count": 23,
   "id": "109a6a85",
   "metadata": {},
   "outputs": [
    {
     "name": "stdout",
     "output_type": "stream",
     "text": [
      "Sum all the items in the list:  139\n"
     ]
    }
   ],
   "source": [
    "list1 = [5, 4, 17, 19, 30, 2, 7, 10, 45]\n",
    "\n",
    "def sumOfList(list, size):\n",
    "    if (size == 0):\n",
    "        return 0\n",
    "    else:\n",
    "        return list[size - 1] + sumOfList(list, size - 1)\n",
    " \n",
    " \n",
    "\n",
    "total = sumOfList(list1, len(list1))\n",
    " \n",
    "print(\"Sum all the items in the list: \", total)\n"
   ]
  },
  {
   "cell_type": "code",
   "execution_count": 24,
   "id": "558f202b",
   "metadata": {},
   "outputs": [
    {
     "name": "stdout",
     "output_type": "stream",
     "text": [
      "The Largest number from the list is: 45\n"
     ]
    }
   ],
   "source": [
    "list1 = [5, 4, 17, 19, 30, 2, 7, 10, 45]\n",
    " \n",
    "\n",
    "print(\"The Largest number from the list is:\", max(list1))"
   ]
  },
  {
   "cell_type": "code",
   "execution_count": 26,
   "id": "402ba9c0",
   "metadata": {},
   "outputs": [
    {
     "name": "stdout",
     "output_type": "stream",
     "text": [
      "[4, 30, 2, 10]\n"
     ]
    }
   ],
   "source": [
    "list1 = [5, 4, 17, 19, 30, 2, 7, 10, 45]\n",
    "\n",
    "def get_even_numbers(list1):\n",
    "    even_numbers = []\n",
    "\n",
    "    for number in list1:\n",
    "        if number % 2 == 0:\n",
    "            even_numbers.append(number)\n",
    "\n",
    "    return even_numbers\n",
    "\n",
    "print(get_even_numbers(list1))\n"
   ]
  },
  {
   "cell_type": "code",
   "execution_count": 27,
   "id": "f809b0f4",
   "metadata": {},
   "outputs": [
    {
     "name": "stdout",
     "output_type": "stream",
     "text": [
      "[5, 4, 17, 19, 30]\n"
     ]
    }
   ],
   "source": [
    "list1 = [5, 4, 17, 19, 30, 2, 7, 10, 45]\n",
    "first_three_elements = list1[:5]\n",
    "print(first_three_elements)\n",
    "\n"
   ]
  },
  {
   "cell_type": "code",
   "execution_count": null,
   "id": "aff63fa9",
   "metadata": {},
   "outputs": [],
   "source": []
  },
  {
   "cell_type": "code",
   "execution_count": null,
   "id": "1663380e",
   "metadata": {},
   "outputs": [],
   "source": []
  }
 ],
 "metadata": {
  "kernelspec": {
   "display_name": "Python 3 (ipykernel)",
   "language": "python",
   "name": "python3"
  },
  "language_info": {
   "codemirror_mode": {
    "name": "ipython",
    "version": 3
   },
   "file_extension": ".py",
   "mimetype": "text/x-python",
   "name": "python",
   "nbconvert_exporter": "python",
   "pygments_lexer": "ipython3",
   "version": "3.10.9"
  }
 },
 "nbformat": 4,
 "nbformat_minor": 5
}
